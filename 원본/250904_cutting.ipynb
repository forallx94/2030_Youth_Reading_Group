{
 "cells": [
  {
   "cell_type": "code",
   "execution_count": 2,
   "id": "bdbce1c2",
   "metadata": {},
   "outputs": [],
   "source": [
    "import os\n",
    "from pydub import AudioSegment\n",
    "\n",
    "def slice_audio(input_path, output_path, start_ms, end_ms):\n",
    "    \"\"\"\n",
    "    오디오 파일을 지정된 시간(밀리초)으로 잘라 저장합니다.\n",
    "\n",
    "    Args:\n",
    "        input_path (str): 원본 M4A 파일 경로\n",
    "        output_path (str): 저장할 파일 경로\n",
    "        start_ms (int): 시작 시간 (밀리초)\n",
    "        end_ms (int): 끝 시간 (밀리초)\n",
    "    \"\"\"\n",
    "    try:\n",
    "        # 1. 오디오 파일 불러오기\n",
    "        print(f\"'{input_path}' 파일을 불러오는 중입니다...\")\n",
    "        audio = AudioSegment.from_file(input_path, format=\"m4a\")\n",
    "        print(\"파일을 성공적으로 불러왔습니다.\")\n",
    "\n",
    "        # 2. 지정된 시간으로 오디오 자르기\n",
    "        print(f\"{start_ms}ms 부터 {end_ms}ms 까지 오디오를 자르는 중입니다...\")\n",
    "        sliced_audio = audio[start_ms:end_ms]\n",
    "        print(\"오디오를 성공적으로 잘랐습니다.\")\n",
    "\n",
    "        # 3. 잘라낸 오디오를 새 파일로 저장하기\n",
    "        # 원본과 동일한 포맷(m4a)으로 저장하려면 format='ipod'을 사용합니다.\n",
    "        print(f\"잘라낸 오디오를 '{output_path}' 파일로 저장하는 중입니다...\")\n",
    "        sliced_audio.export(output_path, format=\"ipod\")\n",
    "        print(f\"'{output_path}' 파일로 성공적으로 저장했습니다! 🎉\")\n",
    "\n",
    "    except FileNotFoundError:\n",
    "        print(f\"오류: '{input_path}' 파일을 찾을 수 없습니다. 경로를 확인해주세요.\")\n",
    "    except Exception as e:\n",
    "        print(f\"오디오 처리 중 오류가 발생했습니다: {e}\")\n",
    "\n"
   ]
  },
  {
   "cell_type": "code",
   "execution_count": 3,
   "id": "0cc1a473",
   "metadata": {},
   "outputs": [
    {
     "name": "stdout",
     "output_type": "stream",
     "text": [
      "'259003_6회차.m4a' 파일을 불러오는 중입니다...\n",
      "파일을 성공적으로 불러왔습니다.\n",
      "204000ms 부터 5162000ms 까지 오디오를 자르는 중입니다...\n",
      "오디오를 성공적으로 잘랐습니다.\n",
      "잘라낸 오디오를 '259003_6회차_cut_off.m4a' 파일로 저장하는 중입니다...\n",
      "'259003_6회차_cut_off.m4a' 파일로 성공적으로 저장했습니다! 🎉\n"
     ]
    }
   ],
   "source": [
    "# 입력 파일 경로 (예: 바탕화면의 'original_audio.m4a')\n",
    "# Windows 예: \"C:/Users/YourUser/Desktop/original_audio.m4a\"\n",
    "# macOS 예: \"/Users/YourUser/Desktop/original_audio.m4a\"\n",
    "input_file = \"259003_6회차.m4a\" # 잘라낼 원본 파일명을 입력하세요.\n",
    "\n",
    "# 출력 파일 경로 (잘라낸 파일이 저장될 이름)\n",
    "output_file = \"259003_6회차_cut_off.m4a\"\n",
    "\n",
    "# 잘라낼 시작 및 끝 시간 (밀리초 단위)\n",
    "# 예: 10초(10000ms)부터 30초(30000ms)까지 자르기\n",
    "start_time_ms = (3 * 60 + 24) * 1000\n",
    "end_time_ms = (1*60*60 + 26*60 + 2) * 1000\n",
    "\n",
    "# 함수 실행\n",
    "slice_audio(input_file, output_file, start_time_ms, end_time_ms)"
   ]
  },
  {
   "cell_type": "code",
   "execution_count": null,
   "id": "92bd4fbb",
   "metadata": {},
   "outputs": [],
   "source": []
  }
 ],
 "metadata": {
  "kernelspec": {
   "display_name": "py10",
   "language": "python",
   "name": "python3"
  },
  "language_info": {
   "codemirror_mode": {
    "name": "ipython",
    "version": 3
   },
   "file_extension": ".py",
   "mimetype": "text/x-python",
   "name": "python",
   "nbconvert_exporter": "python",
   "pygments_lexer": "ipython3",
   "version": "3.10.13"
  }
 },
 "nbformat": 4,
 "nbformat_minor": 5
}
